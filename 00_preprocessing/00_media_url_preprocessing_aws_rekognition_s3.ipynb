{
 "cells": [
  {
   "cell_type": "code",
   "execution_count": 1,
   "metadata": {
    "collapsed": true
   },
   "outputs": [],
   "source": [
    "import pandas as pd\n",
    "import numpy as np"
   ]
  },
  {
   "cell_type": "code",
   "execution_count": 2,
   "metadata": {
    "collapsed": true
   },
   "outputs": [],
   "source": [
    "df = pd.read_csv(\"newtweets_10percent.csv\")"
   ]
  },
  {
   "cell_type": "code",
   "execution_count": 3,
   "metadata": {
    "collapsed": false
   },
   "outputs": [
    {
     "data": {
      "text/plain": [
       "Index(['Unnamed: 0', 'Unnamed: 0.1', 'Unnamed: 0.1.1', 'brand', 'engagement',\n",
       "       'has_spend', 'id', 'impact', 'share_token', 'timestamp', 'type', 'urls',\n",
       "       'favorite_count', 'hashtags', 'link_description', 'link_thumbnail',\n",
       "       'link_title', 'link_url', 'links', 'media_url', 'retweet_count', 'text',\n",
       "       'tweet_id', 'tweet_url',\n",
       "       'channel_info_{'type': ['link'], 'channel': 'twitter'}',\n",
       "       'channel_info_{'type': ['photo', 'link'], 'channel': 'twitter'}',\n",
       "       'channel_info_{'type': ['photo'], 'channel': 'twitter'}',\n",
       "       'channel_info_{'type': ['text only'], 'channel': 'twitter'}'],\n",
       "      dtype='object')"
      ]
     },
     "execution_count": 3,
     "metadata": {},
     "output_type": "execute_result"
    }
   ],
   "source": [
    "df.columns"
   ]
  },
  {
   "cell_type": "code",
   "execution_count": 5,
   "metadata": {
    "collapsed": true
   },
   "outputs": [],
   "source": [
    "image_list = df[\"media_url\"]"
   ]
  },
  {
   "cell_type": "code",
   "execution_count": 11,
   "metadata": {
    "collapsed": false
   },
   "outputs": [
    {
     "data": {
      "text/plain": [
       "'https://pbs.twimg.com/media/DOtY4hsXUAAParB.jpg'"
      ]
     },
     "execution_count": 11,
     "metadata": {},
     "output_type": "execute_result"
    }
   ],
   "source": [
    "test_1 =image_list[5]\n",
    "test_1"
   ]
  },
  {
   "cell_type": "code",
   "execution_count": 12,
   "metadata": {
    "collapsed": false
   },
   "outputs": [],
   "source": [
    "import boto\n",
    "import boto3\n",
    "conn = boto.connect_s3()\n",
    "import requests"
   ]
  },
  {
   "cell_type": "code",
   "execution_count": 14,
   "metadata": {
    "collapsed": true
   },
   "outputs": [],
   "source": [
    "# Uses the creds in ~/.aws/credentials\n",
    "s3 = boto3.resource('s3')\n",
    "bucket_name_to_upload_image_to = 'mediaurls'"
   ]
  },
  {
   "cell_type": "code",
   "execution_count": 15,
   "metadata": {
    "collapsed": false
   },
   "outputs": [
    {
     "name": "stdout",
     "output_type": "stream",
     "text": [
      "Good to go. Found the bucket to upload the image into.\n"
     ]
    }
   ],
   "source": [
    "# Do this as a quick and easy check to make sure your S3 access is OK\n",
    "for bucket in s3.buckets.all():\n",
    "    if bucket.name == bucket_name_to_upload_image_to:\n",
    "        print('Good to go. Found the bucket to upload the image into.')\n",
    "        good_to_go = True\n",
    "\n",
    "if not good_to_go:\n",
    "    print('Not seeing your s3 bucket, might want to double check permissions in IAM')"
   ]
  },
  {
   "cell_type": "code",
   "execution_count": 24,
   "metadata": {
    "collapsed": false
   },
   "outputs": [],
   "source": [
    "mapping_dict_2 ={}\n",
    "for i, img_url in enumerate(image_list[6663:10000]):\n",
    "    img_name = \"img_%05d\" % ((i+6663),)\n",
    "    mapping_dict_2[img_name] = img_url\n",
    "    \n",
    "    if (img_url == np.nan) | (str(img_url) == \"nan\"):\n",
    "        continue\n",
    "    else:\n",
    "        # Uses the creds in ~/.aws/credentials\n",
    "        s3_image_filename = img_name\n",
    "        internet_image_url = img_url\n",
    "\n",
    "        # Given an Internet-accessible URL, download the image and upload it to S3,\n",
    "        # without needing to persist the image to disk locally\n",
    "        req_for_image = requests.get(internet_image_url, stream=True)\n",
    "        file_object_from_req = req_for_image.raw\n",
    "        req_data = file_object_from_req.read()\n",
    "\n",
    "        # Do the actual upload to s3\n",
    "        s3.Bucket(bucket_name_to_upload_image_to).put_object(Key=s3_image_filename, Body=req_data)"
   ]
  },
  {
   "cell_type": "code",
   "execution_count": 37,
   "metadata": {
    "collapsed": false
   },
   "outputs": [],
   "source": [
    "md_01 = pd.DataFrame(mapping_dict, index = range(0,len(mapping_dict)))"
   ]
  },
  {
   "cell_type": "code",
   "execution_count": 38,
   "metadata": {
    "collapsed": false
   },
   "outputs": [],
   "source": [
    "md_02 = pd.DataFrame(md_01.T[0])"
   ]
  },
  {
   "cell_type": "code",
   "execution_count": 34,
   "metadata": {
    "collapsed": false
   },
   "outputs": [
    {
     "data": {
      "text/html": [
       "<div>\n",
       "<style>\n",
       "    .dataframe thead tr:only-child th {\n",
       "        text-align: right;\n",
       "    }\n",
       "\n",
       "    .dataframe thead th {\n",
       "        text-align: left;\n",
       "    }\n",
       "\n",
       "    .dataframe tbody tr th {\n",
       "        vertical-align: top;\n",
       "    }\n",
       "</style>\n",
       "<table border=\"1\" class=\"dataframe\">\n",
       "  <thead>\n",
       "    <tr style=\"text-align: right;\">\n",
       "      <th></th>\n",
       "      <th>0</th>\n",
       "    </tr>\n",
       "  </thead>\n",
       "  <tbody>\n",
       "    <tr>\n",
       "      <th>img_00000</th>\n",
       "      <td>NaN</td>\n",
       "    </tr>\n",
       "    <tr>\n",
       "      <th>img_00001</th>\n",
       "      <td>NaN</td>\n",
       "    </tr>\n",
       "    <tr>\n",
       "      <th>img_00002</th>\n",
       "      <td>NaN</td>\n",
       "    </tr>\n",
       "    <tr>\n",
       "      <th>img_00003</th>\n",
       "      <td>NaN</td>\n",
       "    </tr>\n",
       "    <tr>\n",
       "      <th>img_00004</th>\n",
       "      <td>NaN</td>\n",
       "    </tr>\n",
       "    <tr>\n",
       "      <th>img_00005</th>\n",
       "      <td>https://pbs.twimg.com/media/DOtY4hsXUAAParB.jpg</td>\n",
       "    </tr>\n",
       "    <tr>\n",
       "      <th>img_00006</th>\n",
       "      <td>NaN</td>\n",
       "    </tr>\n",
       "    <tr>\n",
       "      <th>img_00007</th>\n",
       "      <td>NaN</td>\n",
       "    </tr>\n",
       "    <tr>\n",
       "      <th>img_00008</th>\n",
       "      <td>NaN</td>\n",
       "    </tr>\n",
       "    <tr>\n",
       "      <th>img_00009</th>\n",
       "      <td>NaN</td>\n",
       "    </tr>\n",
       "    <tr>\n",
       "      <th>img_00010</th>\n",
       "      <td>https://pbs.twimg.com/media/DOssiD7X0AALTfj.jpg</td>\n",
       "    </tr>\n",
       "    <tr>\n",
       "      <th>img_00011</th>\n",
       "      <td>NaN</td>\n",
       "    </tr>\n",
       "    <tr>\n",
       "      <th>img_00012</th>\n",
       "      <td>NaN</td>\n",
       "    </tr>\n",
       "    <tr>\n",
       "      <th>img_00013</th>\n",
       "      <td>NaN</td>\n",
       "    </tr>\n",
       "    <tr>\n",
       "      <th>img_00014</th>\n",
       "      <td>NaN</td>\n",
       "    </tr>\n",
       "    <tr>\n",
       "      <th>img_00015</th>\n",
       "      <td>NaN</td>\n",
       "    </tr>\n",
       "    <tr>\n",
       "      <th>img_00016</th>\n",
       "      <td>https://pbs.twimg.com/media/DOpJmmHW0AE50Tc.jpg</td>\n",
       "    </tr>\n",
       "    <tr>\n",
       "      <th>img_00017</th>\n",
       "      <td>NaN</td>\n",
       "    </tr>\n",
       "    <tr>\n",
       "      <th>img_00018</th>\n",
       "      <td>NaN</td>\n",
       "    </tr>\n",
       "    <tr>\n",
       "      <th>img_00019</th>\n",
       "      <td>NaN</td>\n",
       "    </tr>\n",
       "    <tr>\n",
       "      <th>img_00020</th>\n",
       "      <td>NaN</td>\n",
       "    </tr>\n",
       "    <tr>\n",
       "      <th>img_00021</th>\n",
       "      <td>https://pbs.twimg.com/ext_tw_video_thumb/93055...</td>\n",
       "    </tr>\n",
       "    <tr>\n",
       "      <th>img_00022</th>\n",
       "      <td>NaN</td>\n",
       "    </tr>\n",
       "    <tr>\n",
       "      <th>img_00023</th>\n",
       "      <td>NaN</td>\n",
       "    </tr>\n",
       "    <tr>\n",
       "      <th>img_00024</th>\n",
       "      <td>NaN</td>\n",
       "    </tr>\n",
       "    <tr>\n",
       "      <th>img_00025</th>\n",
       "      <td>https://pbs.twimg.com/media/DOnT5hiXUAA75_s.jpg</td>\n",
       "    </tr>\n",
       "    <tr>\n",
       "      <th>img_00026</th>\n",
       "      <td>NaN</td>\n",
       "    </tr>\n",
       "    <tr>\n",
       "      <th>img_00027</th>\n",
       "      <td>https://pbs.twimg.com/media/DOm3p0FXcAAj3TF.jpg</td>\n",
       "    </tr>\n",
       "    <tr>\n",
       "      <th>img_00028</th>\n",
       "      <td>NaN</td>\n",
       "    </tr>\n",
       "    <tr>\n",
       "      <th>img_00029</th>\n",
       "      <td>https://pbs.twimg.com/media/DOmfvnXW4AII7RV.jpg</td>\n",
       "    </tr>\n",
       "    <tr>\n",
       "      <th>...</th>\n",
       "      <td>...</td>\n",
       "    </tr>\n",
       "    <tr>\n",
       "      <th>img_06634</th>\n",
       "      <td>NaN</td>\n",
       "    </tr>\n",
       "    <tr>\n",
       "      <th>img_06635</th>\n",
       "      <td>NaN</td>\n",
       "    </tr>\n",
       "    <tr>\n",
       "      <th>img_06636</th>\n",
       "      <td>https://pbs.twimg.com/media/CtUtz7oWYAAcRHE.jpg</td>\n",
       "    </tr>\n",
       "    <tr>\n",
       "      <th>img_06637</th>\n",
       "      <td>NaN</td>\n",
       "    </tr>\n",
       "    <tr>\n",
       "      <th>img_06638</th>\n",
       "      <td>NaN</td>\n",
       "    </tr>\n",
       "    <tr>\n",
       "      <th>img_06639</th>\n",
       "      <td>https://pbs.twimg.com/media/CtTbaxvWYAQImSf.jpg</td>\n",
       "    </tr>\n",
       "    <tr>\n",
       "      <th>img_06640</th>\n",
       "      <td>https://pbs.twimg.com/media/CtTWnF4WEAEB2jB.jpg</td>\n",
       "    </tr>\n",
       "    <tr>\n",
       "      <th>img_06641</th>\n",
       "      <td>NaN</td>\n",
       "    </tr>\n",
       "    <tr>\n",
       "      <th>img_06642</th>\n",
       "      <td>https://pbs.twimg.com/media/CtS5FJVXEAAIo3Y.jpg</td>\n",
       "    </tr>\n",
       "    <tr>\n",
       "      <th>img_06643</th>\n",
       "      <td>NaN</td>\n",
       "    </tr>\n",
       "    <tr>\n",
       "      <th>img_06644</th>\n",
       "      <td>https://pbs.twimg.com/media/CtSeiX6WIAAtDcq.jpg</td>\n",
       "    </tr>\n",
       "    <tr>\n",
       "      <th>img_06645</th>\n",
       "      <td>https://pbs.twimg.com/media/CtSc8TPWEAEs1D3.jpg</td>\n",
       "    </tr>\n",
       "    <tr>\n",
       "      <th>img_06646</th>\n",
       "      <td>https://pbs.twimg.com/media/CtSEOIMXEAA3iQH.jpg</td>\n",
       "    </tr>\n",
       "    <tr>\n",
       "      <th>img_06647</th>\n",
       "      <td>NaN</td>\n",
       "    </tr>\n",
       "    <tr>\n",
       "      <th>img_06648</th>\n",
       "      <td>https://pbs.twimg.com/media/CtRCB0BXEAEyo2e.jpg</td>\n",
       "    </tr>\n",
       "    <tr>\n",
       "      <th>img_06649</th>\n",
       "      <td>NaN</td>\n",
       "    </tr>\n",
       "    <tr>\n",
       "      <th>img_06650</th>\n",
       "      <td>NaN</td>\n",
       "    </tr>\n",
       "    <tr>\n",
       "      <th>img_06651</th>\n",
       "      <td>NaN</td>\n",
       "    </tr>\n",
       "    <tr>\n",
       "      <th>img_06652</th>\n",
       "      <td>https://pbs.twimg.com/media/CtPzyPaXYAE-ZrG.jpg</td>\n",
       "    </tr>\n",
       "    <tr>\n",
       "      <th>img_06653</th>\n",
       "      <td>NaN</td>\n",
       "    </tr>\n",
       "    <tr>\n",
       "      <th>img_06654</th>\n",
       "      <td>NaN</td>\n",
       "    </tr>\n",
       "    <tr>\n",
       "      <th>img_06655</th>\n",
       "      <td>https://pbs.twimg.com/media/CtPZtz9WAAAWAFg.jpg</td>\n",
       "    </tr>\n",
       "    <tr>\n",
       "      <th>img_06656</th>\n",
       "      <td>NaN</td>\n",
       "    </tr>\n",
       "    <tr>\n",
       "      <th>img_06657</th>\n",
       "      <td>NaN</td>\n",
       "    </tr>\n",
       "    <tr>\n",
       "      <th>img_06658</th>\n",
       "      <td>https://pbs.twimg.com/media/CtO2rMxXYAAZkUD.jpg</td>\n",
       "    </tr>\n",
       "    <tr>\n",
       "      <th>img_06659</th>\n",
       "      <td>NaN</td>\n",
       "    </tr>\n",
       "    <tr>\n",
       "      <th>img_06660</th>\n",
       "      <td>https://pbs.twimg.com/media/CtN0HtsXYAAC-HW.jpg</td>\n",
       "    </tr>\n",
       "    <tr>\n",
       "      <th>img_06661</th>\n",
       "      <td>https://pbs.twimg.com/tweet_video_thumb/CtNbXm...</td>\n",
       "    </tr>\n",
       "    <tr>\n",
       "      <th>img_06662</th>\n",
       "      <td>NaN</td>\n",
       "    </tr>\n",
       "    <tr>\n",
       "      <th>img_06663</th>\n",
       "      <td>https://pbs.twimg.com/media/CtNHrAXW8AA2Pa0.jpg</td>\n",
       "    </tr>\n",
       "  </tbody>\n",
       "</table>\n",
       "<p>6664 rows × 1 columns</p>\n",
       "</div>"
      ],
      "text/plain": [
       "                                                           0\n",
       "img_00000                                                NaN\n",
       "img_00001                                                NaN\n",
       "img_00002                                                NaN\n",
       "img_00003                                                NaN\n",
       "img_00004                                                NaN\n",
       "img_00005    https://pbs.twimg.com/media/DOtY4hsXUAAParB.jpg\n",
       "img_00006                                                NaN\n",
       "img_00007                                                NaN\n",
       "img_00008                                                NaN\n",
       "img_00009                                                NaN\n",
       "img_00010    https://pbs.twimg.com/media/DOssiD7X0AALTfj.jpg\n",
       "img_00011                                                NaN\n",
       "img_00012                                                NaN\n",
       "img_00013                                                NaN\n",
       "img_00014                                                NaN\n",
       "img_00015                                                NaN\n",
       "img_00016    https://pbs.twimg.com/media/DOpJmmHW0AE50Tc.jpg\n",
       "img_00017                                                NaN\n",
       "img_00018                                                NaN\n",
       "img_00019                                                NaN\n",
       "img_00020                                                NaN\n",
       "img_00021  https://pbs.twimg.com/ext_tw_video_thumb/93055...\n",
       "img_00022                                                NaN\n",
       "img_00023                                                NaN\n",
       "img_00024                                                NaN\n",
       "img_00025    https://pbs.twimg.com/media/DOnT5hiXUAA75_s.jpg\n",
       "img_00026                                                NaN\n",
       "img_00027    https://pbs.twimg.com/media/DOm3p0FXcAAj3TF.jpg\n",
       "img_00028                                                NaN\n",
       "img_00029    https://pbs.twimg.com/media/DOmfvnXW4AII7RV.jpg\n",
       "...                                                      ...\n",
       "img_06634                                                NaN\n",
       "img_06635                                                NaN\n",
       "img_06636    https://pbs.twimg.com/media/CtUtz7oWYAAcRHE.jpg\n",
       "img_06637                                                NaN\n",
       "img_06638                                                NaN\n",
       "img_06639    https://pbs.twimg.com/media/CtTbaxvWYAQImSf.jpg\n",
       "img_06640    https://pbs.twimg.com/media/CtTWnF4WEAEB2jB.jpg\n",
       "img_06641                                                NaN\n",
       "img_06642    https://pbs.twimg.com/media/CtS5FJVXEAAIo3Y.jpg\n",
       "img_06643                                                NaN\n",
       "img_06644    https://pbs.twimg.com/media/CtSeiX6WIAAtDcq.jpg\n",
       "img_06645    https://pbs.twimg.com/media/CtSc8TPWEAEs1D3.jpg\n",
       "img_06646    https://pbs.twimg.com/media/CtSEOIMXEAA3iQH.jpg\n",
       "img_06647                                                NaN\n",
       "img_06648    https://pbs.twimg.com/media/CtRCB0BXEAEyo2e.jpg\n",
       "img_06649                                                NaN\n",
       "img_06650                                                NaN\n",
       "img_06651                                                NaN\n",
       "img_06652    https://pbs.twimg.com/media/CtPzyPaXYAE-ZrG.jpg\n",
       "img_06653                                                NaN\n",
       "img_06654                                                NaN\n",
       "img_06655    https://pbs.twimg.com/media/CtPZtz9WAAAWAFg.jpg\n",
       "img_06656                                                NaN\n",
       "img_06657                                                NaN\n",
       "img_06658    https://pbs.twimg.com/media/CtO2rMxXYAAZkUD.jpg\n",
       "img_06659                                                NaN\n",
       "img_06660    https://pbs.twimg.com/media/CtN0HtsXYAAC-HW.jpg\n",
       "img_06661  https://pbs.twimg.com/tweet_video_thumb/CtNbXm...\n",
       "img_06662                                                NaN\n",
       "img_06663    https://pbs.twimg.com/media/CtNHrAXW8AA2Pa0.jpg\n",
       "\n",
       "[6664 rows x 1 columns]"
      ]
     },
     "execution_count": 34,
     "metadata": {},
     "output_type": "execute_result"
    }
   ],
   "source": [
    "md_02"
   ]
  },
  {
   "cell_type": "code",
   "execution_count": 36,
   "metadata": {
    "collapsed": false
   },
   "outputs": [
    {
     "data": {
      "text/html": [
       "<div>\n",
       "<style>\n",
       "    .dataframe thead tr:only-child th {\n",
       "        text-align: right;\n",
       "    }\n",
       "\n",
       "    .dataframe thead th {\n",
       "        text-align: left;\n",
       "    }\n",
       "\n",
       "    .dataframe tbody tr th {\n",
       "        vertical-align: top;\n",
       "    }\n",
       "</style>\n",
       "<table border=\"1\" class=\"dataframe\">\n",
       "  <thead>\n",
       "    <tr style=\"text-align: right;\">\n",
       "      <th></th>\n",
       "      <th>0</th>\n",
       "    </tr>\n",
       "  </thead>\n",
       "  <tbody>\n",
       "    <tr>\n",
       "      <th>img_06663</th>\n",
       "      <td>https://pbs.twimg.com/media/CtNHrAXW8AA2Pa0.jpg</td>\n",
       "    </tr>\n",
       "    <tr>\n",
       "      <th>img_06664</th>\n",
       "      <td>https://pbs.twimg.com/media/CtLmBvvWgAAsCMF.jpg</td>\n",
       "    </tr>\n",
       "    <tr>\n",
       "      <th>img_06665</th>\n",
       "      <td>NaN</td>\n",
       "    </tr>\n",
       "    <tr>\n",
       "      <th>img_06666</th>\n",
       "      <td>NaN</td>\n",
       "    </tr>\n",
       "    <tr>\n",
       "      <th>img_06667</th>\n",
       "      <td>NaN</td>\n",
       "    </tr>\n",
       "    <tr>\n",
       "      <th>img_06668</th>\n",
       "      <td>NaN</td>\n",
       "    </tr>\n",
       "    <tr>\n",
       "      <th>img_06669</th>\n",
       "      <td>NaN</td>\n",
       "    </tr>\n",
       "    <tr>\n",
       "      <th>img_06670</th>\n",
       "      <td>NaN</td>\n",
       "    </tr>\n",
       "    <tr>\n",
       "      <th>img_06671</th>\n",
       "      <td>https://pbs.twimg.com/media/CtKFkuMXEAI7-F9.jpg</td>\n",
       "    </tr>\n",
       "    <tr>\n",
       "      <th>img_06672</th>\n",
       "      <td>NaN</td>\n",
       "    </tr>\n",
       "    <tr>\n",
       "      <th>img_06673</th>\n",
       "      <td>https://pbs.twimg.com/media/CtHT906XYAQgcl8.jpg</td>\n",
       "    </tr>\n",
       "    <tr>\n",
       "      <th>img_06674</th>\n",
       "      <td>https://pbs.twimg.com/media/CtF6saDWgAAYGHi.jpg</td>\n",
       "    </tr>\n",
       "    <tr>\n",
       "      <th>img_06675</th>\n",
       "      <td>https://pbs.twimg.com/media/CtFsTIMWIAAz6TH.jpg</td>\n",
       "    </tr>\n",
       "    <tr>\n",
       "      <th>img_06676</th>\n",
       "      <td>NaN</td>\n",
       "    </tr>\n",
       "    <tr>\n",
       "      <th>img_06677</th>\n",
       "      <td>https://pbs.twimg.com/media/CtFQmAPXgAA0gZU.jpg</td>\n",
       "    </tr>\n",
       "    <tr>\n",
       "      <th>img_06678</th>\n",
       "      <td>NaN</td>\n",
       "    </tr>\n",
       "    <tr>\n",
       "      <th>img_06679</th>\n",
       "      <td>https://pbs.twimg.com/media/CtEvKWAW8AAlvRe.jpg</td>\n",
       "    </tr>\n",
       "    <tr>\n",
       "      <th>img_06680</th>\n",
       "      <td>https://pbs.twimg.com/tweet_video_thumb/CtEm0h...</td>\n",
       "    </tr>\n",
       "    <tr>\n",
       "      <th>img_06681</th>\n",
       "      <td>https://pbs.twimg.com/media/CtElWumXEAE7-yQ.jpg</td>\n",
       "    </tr>\n",
       "    <tr>\n",
       "      <th>img_06682</th>\n",
       "      <td>NaN</td>\n",
       "    </tr>\n",
       "    <tr>\n",
       "      <th>img_06683</th>\n",
       "      <td>NaN</td>\n",
       "    </tr>\n",
       "    <tr>\n",
       "      <th>img_06684</th>\n",
       "      <td>https://pbs.twimg.com/media/CtEAs4MWgAAFdtU.jpg</td>\n",
       "    </tr>\n",
       "    <tr>\n",
       "      <th>img_06685</th>\n",
       "      <td>NaN</td>\n",
       "    </tr>\n",
       "    <tr>\n",
       "      <th>img_06686</th>\n",
       "      <td>https://pbs.twimg.com/media/CtD6rYLXgAAKMwx.jpg</td>\n",
       "    </tr>\n",
       "    <tr>\n",
       "      <th>img_06687</th>\n",
       "      <td>NaN</td>\n",
       "    </tr>\n",
       "    <tr>\n",
       "      <th>img_06688</th>\n",
       "      <td>NaN</td>\n",
       "    </tr>\n",
       "    <tr>\n",
       "      <th>img_06689</th>\n",
       "      <td>NaN</td>\n",
       "    </tr>\n",
       "    <tr>\n",
       "      <th>img_06690</th>\n",
       "      <td>NaN</td>\n",
       "    </tr>\n",
       "    <tr>\n",
       "      <th>img_06691</th>\n",
       "      <td>NaN</td>\n",
       "    </tr>\n",
       "    <tr>\n",
       "      <th>img_06692</th>\n",
       "      <td>https://pbs.twimg.com/media/CtCRYw2XYAALpPb.jpg</td>\n",
       "    </tr>\n",
       "    <tr>\n",
       "      <th>...</th>\n",
       "      <td>...</td>\n",
       "    </tr>\n",
       "    <tr>\n",
       "      <th>img_09970</th>\n",
       "      <td>https://pbs.twimg.com/media/CX2nwgKWcAAGXMw.jpg</td>\n",
       "    </tr>\n",
       "    <tr>\n",
       "      <th>img_09971</th>\n",
       "      <td>https://pbs.twimg.com/media/CX19lIyWAAImSii.jpg</td>\n",
       "    </tr>\n",
       "    <tr>\n",
       "      <th>img_09972</th>\n",
       "      <td>https://pbs.twimg.com/media/CX00GxrWsAElAWS.png</td>\n",
       "    </tr>\n",
       "    <tr>\n",
       "      <th>img_09973</th>\n",
       "      <td>https://pbs.twimg.com/media/CX0JsjJW8AEP5Nr.png</td>\n",
       "    </tr>\n",
       "    <tr>\n",
       "      <th>img_09974</th>\n",
       "      <td>https://pbs.twimg.com/media/CXzypzSWEAEJIM6.jpg</td>\n",
       "    </tr>\n",
       "    <tr>\n",
       "      <th>img_09975</th>\n",
       "      <td>https://pbs.twimg.com/media/CXzm2T9WcAEn8jj.png</td>\n",
       "    </tr>\n",
       "    <tr>\n",
       "      <th>img_09976</th>\n",
       "      <td>NaN</td>\n",
       "    </tr>\n",
       "    <tr>\n",
       "      <th>img_09977</th>\n",
       "      <td>https://pbs.twimg.com/media/CXyb43wWQAAodPh.jpg</td>\n",
       "    </tr>\n",
       "    <tr>\n",
       "      <th>img_09978</th>\n",
       "      <td>https://pbs.twimg.com/media/CXyNeU4UEAEeeHS.jpg</td>\n",
       "    </tr>\n",
       "    <tr>\n",
       "      <th>img_09979</th>\n",
       "      <td>https://pbs.twimg.com/media/CXwBCu3WsAEAtjS.png</td>\n",
       "    </tr>\n",
       "    <tr>\n",
       "      <th>img_09980</th>\n",
       "      <td>https://pbs.twimg.com/media/CXv4QEBWYAEqijU.jpg</td>\n",
       "    </tr>\n",
       "    <tr>\n",
       "      <th>img_09981</th>\n",
       "      <td>https://pbs.twimg.com/media/CXvb3zCWQAASQRg.jpg</td>\n",
       "    </tr>\n",
       "    <tr>\n",
       "      <th>img_09982</th>\n",
       "      <td>https://pbs.twimg.com/media/CXvIq3aWAAANMwq.png</td>\n",
       "    </tr>\n",
       "    <tr>\n",
       "      <th>img_09983</th>\n",
       "      <td>https://pbs.twimg.com/media/CXuwm7PUMAA7l4h.jpg</td>\n",
       "    </tr>\n",
       "    <tr>\n",
       "      <th>img_09984</th>\n",
       "      <td>https://pbs.twimg.com/media/CXutFHTWsAA2M3o.png</td>\n",
       "    </tr>\n",
       "    <tr>\n",
       "      <th>img_09985</th>\n",
       "      <td>NaN</td>\n",
       "    </tr>\n",
       "    <tr>\n",
       "      <th>img_09986</th>\n",
       "      <td>https://pbs.twimg.com/media/CXucsxdWMAA6Dhq.jpg</td>\n",
       "    </tr>\n",
       "    <tr>\n",
       "      <th>img_09987</th>\n",
       "      <td>https://pbs.twimg.com/media/CXuclJuU0AEa3CR.png</td>\n",
       "    </tr>\n",
       "    <tr>\n",
       "      <th>img_09988</th>\n",
       "      <td>NaN</td>\n",
       "    </tr>\n",
       "    <tr>\n",
       "      <th>img_09989</th>\n",
       "      <td>https://pbs.twimg.com/media/CXtjQ-nWsAQFRvA.jpg</td>\n",
       "    </tr>\n",
       "    <tr>\n",
       "      <th>img_09990</th>\n",
       "      <td>https://pbs.twimg.com/media/CXtZJMTWEAEuuaW.png</td>\n",
       "    </tr>\n",
       "    <tr>\n",
       "      <th>img_09991</th>\n",
       "      <td>https://pbs.twimg.com/media/CXr870HWwAEc_FU.jpg</td>\n",
       "    </tr>\n",
       "    <tr>\n",
       "      <th>img_09992</th>\n",
       "      <td>https://pbs.twimg.com/media/CXrVy3WWEAAUOQN.jpg</td>\n",
       "    </tr>\n",
       "    <tr>\n",
       "      <th>img_09993</th>\n",
       "      <td>https://pbs.twimg.com/media/CXqWZitUQAAOrvy.jpg</td>\n",
       "    </tr>\n",
       "    <tr>\n",
       "      <th>img_09994</th>\n",
       "      <td>https://pbs.twimg.com/media/CXqS9tWWQAEaGW1.jpg</td>\n",
       "    </tr>\n",
       "    <tr>\n",
       "      <th>img_09995</th>\n",
       "      <td>https://pbs.twimg.com/media/CXolGVyWsAACDzd.jpg</td>\n",
       "    </tr>\n",
       "    <tr>\n",
       "      <th>img_09996</th>\n",
       "      <td>https://pbs.twimg.com/media/CXobQVMWQAASmt4.jpg</td>\n",
       "    </tr>\n",
       "    <tr>\n",
       "      <th>img_09997</th>\n",
       "      <td>NaN</td>\n",
       "    </tr>\n",
       "    <tr>\n",
       "      <th>img_09998</th>\n",
       "      <td>NaN</td>\n",
       "    </tr>\n",
       "    <tr>\n",
       "      <th>img_09999</th>\n",
       "      <td>https://pbs.twimg.com/media/CXnxTNNUAAILqUC.png</td>\n",
       "    </tr>\n",
       "  </tbody>\n",
       "</table>\n",
       "<p>3337 rows × 1 columns</p>\n",
       "</div>"
      ],
      "text/plain": [
       "                                                           0\n",
       "img_06663    https://pbs.twimg.com/media/CtNHrAXW8AA2Pa0.jpg\n",
       "img_06664    https://pbs.twimg.com/media/CtLmBvvWgAAsCMF.jpg\n",
       "img_06665                                                NaN\n",
       "img_06666                                                NaN\n",
       "img_06667                                                NaN\n",
       "img_06668                                                NaN\n",
       "img_06669                                                NaN\n",
       "img_06670                                                NaN\n",
       "img_06671    https://pbs.twimg.com/media/CtKFkuMXEAI7-F9.jpg\n",
       "img_06672                                                NaN\n",
       "img_06673    https://pbs.twimg.com/media/CtHT906XYAQgcl8.jpg\n",
       "img_06674    https://pbs.twimg.com/media/CtF6saDWgAAYGHi.jpg\n",
       "img_06675    https://pbs.twimg.com/media/CtFsTIMWIAAz6TH.jpg\n",
       "img_06676                                                NaN\n",
       "img_06677    https://pbs.twimg.com/media/CtFQmAPXgAA0gZU.jpg\n",
       "img_06678                                                NaN\n",
       "img_06679    https://pbs.twimg.com/media/CtEvKWAW8AAlvRe.jpg\n",
       "img_06680  https://pbs.twimg.com/tweet_video_thumb/CtEm0h...\n",
       "img_06681    https://pbs.twimg.com/media/CtElWumXEAE7-yQ.jpg\n",
       "img_06682                                                NaN\n",
       "img_06683                                                NaN\n",
       "img_06684    https://pbs.twimg.com/media/CtEAs4MWgAAFdtU.jpg\n",
       "img_06685                                                NaN\n",
       "img_06686    https://pbs.twimg.com/media/CtD6rYLXgAAKMwx.jpg\n",
       "img_06687                                                NaN\n",
       "img_06688                                                NaN\n",
       "img_06689                                                NaN\n",
       "img_06690                                                NaN\n",
       "img_06691                                                NaN\n",
       "img_06692    https://pbs.twimg.com/media/CtCRYw2XYAALpPb.jpg\n",
       "...                                                      ...\n",
       "img_09970    https://pbs.twimg.com/media/CX2nwgKWcAAGXMw.jpg\n",
       "img_09971    https://pbs.twimg.com/media/CX19lIyWAAImSii.jpg\n",
       "img_09972    https://pbs.twimg.com/media/CX00GxrWsAElAWS.png\n",
       "img_09973    https://pbs.twimg.com/media/CX0JsjJW8AEP5Nr.png\n",
       "img_09974    https://pbs.twimg.com/media/CXzypzSWEAEJIM6.jpg\n",
       "img_09975    https://pbs.twimg.com/media/CXzm2T9WcAEn8jj.png\n",
       "img_09976                                                NaN\n",
       "img_09977    https://pbs.twimg.com/media/CXyb43wWQAAodPh.jpg\n",
       "img_09978    https://pbs.twimg.com/media/CXyNeU4UEAEeeHS.jpg\n",
       "img_09979    https://pbs.twimg.com/media/CXwBCu3WsAEAtjS.png\n",
       "img_09980    https://pbs.twimg.com/media/CXv4QEBWYAEqijU.jpg\n",
       "img_09981    https://pbs.twimg.com/media/CXvb3zCWQAASQRg.jpg\n",
       "img_09982    https://pbs.twimg.com/media/CXvIq3aWAAANMwq.png\n",
       "img_09983    https://pbs.twimg.com/media/CXuwm7PUMAA7l4h.jpg\n",
       "img_09984    https://pbs.twimg.com/media/CXutFHTWsAA2M3o.png\n",
       "img_09985                                                NaN\n",
       "img_09986    https://pbs.twimg.com/media/CXucsxdWMAA6Dhq.jpg\n",
       "img_09987    https://pbs.twimg.com/media/CXuclJuU0AEa3CR.png\n",
       "img_09988                                                NaN\n",
       "img_09989    https://pbs.twimg.com/media/CXtjQ-nWsAQFRvA.jpg\n",
       "img_09990    https://pbs.twimg.com/media/CXtZJMTWEAEuuaW.png\n",
       "img_09991    https://pbs.twimg.com/media/CXr870HWwAEc_FU.jpg\n",
       "img_09992    https://pbs.twimg.com/media/CXrVy3WWEAAUOQN.jpg\n",
       "img_09993    https://pbs.twimg.com/media/CXqWZitUQAAOrvy.jpg\n",
       "img_09994    https://pbs.twimg.com/media/CXqS9tWWQAEaGW1.jpg\n",
       "img_09995    https://pbs.twimg.com/media/CXolGVyWsAACDzd.jpg\n",
       "img_09996    https://pbs.twimg.com/media/CXobQVMWQAASmt4.jpg\n",
       "img_09997                                                NaN\n",
       "img_09998                                                NaN\n",
       "img_09999    https://pbs.twimg.com/media/CXnxTNNUAAILqUC.png\n",
       "\n",
       "[3337 rows x 1 columns]"
      ]
     },
     "execution_count": 36,
     "metadata": {},
     "output_type": "execute_result"
    }
   ],
   "source": [
    "md_11 = pd.DataFrame(mapping_dict_2, index = range(0,len(mapping_dict_2)))\n",
    "md_12 = pd.DataFrame(md_11.T[0])\n",
    "md_12"
   ]
  },
  {
   "cell_type": "code",
   "execution_count": 39,
   "metadata": {
    "collapsed": false
   },
   "outputs": [],
   "source": [
    "pd.DataFrame(md_02).to_csv('mapping_dict_1_mediaurl.csv', index = range(0,len(mapping_dict)))\n",
    "pd.DataFrame(md_12).to_csv('mapping_dict_2_mediaurl.csv', index = range(0,len(mapping_dict)))"
   ]
  },
  {
   "cell_type": "code",
   "execution_count": 40,
   "metadata": {
    "collapsed": false
   },
   "outputs": [
    {
     "data": {
      "text/html": [
       "<div>\n",
       "<style>\n",
       "    .dataframe thead tr:only-child th {\n",
       "        text-align: right;\n",
       "    }\n",
       "\n",
       "    .dataframe thead th {\n",
       "        text-align: left;\n",
       "    }\n",
       "\n",
       "    .dataframe tbody tr th {\n",
       "        vertical-align: top;\n",
       "    }\n",
       "</style>\n",
       "<table border=\"1\" class=\"dataframe\">\n",
       "  <thead>\n",
       "    <tr style=\"text-align: right;\">\n",
       "      <th></th>\n",
       "      <th>0</th>\n",
       "    </tr>\n",
       "  </thead>\n",
       "  <tbody>\n",
       "    <tr>\n",
       "      <th>img_00000</th>\n",
       "      <td>NaN</td>\n",
       "    </tr>\n",
       "    <tr>\n",
       "      <th>img_00001</th>\n",
       "      <td>NaN</td>\n",
       "    </tr>\n",
       "    <tr>\n",
       "      <th>img_00002</th>\n",
       "      <td>NaN</td>\n",
       "    </tr>\n",
       "    <tr>\n",
       "      <th>img_00003</th>\n",
       "      <td>NaN</td>\n",
       "    </tr>\n",
       "    <tr>\n",
       "      <th>img_00004</th>\n",
       "      <td>NaN</td>\n",
       "    </tr>\n",
       "  </tbody>\n",
       "</table>\n",
       "</div>"
      ],
      "text/plain": [
       "             0\n",
       "img_00000  NaN\n",
       "img_00001  NaN\n",
       "img_00002  NaN\n",
       "img_00003  NaN\n",
       "img_00004  NaN"
      ]
     },
     "execution_count": 40,
     "metadata": {},
     "output_type": "execute_result"
    }
   ],
   "source": [
    "md_02.head()"
   ]
  },
  {
   "cell_type": "code",
   "execution_count": 41,
   "metadata": {
    "collapsed": false
   },
   "outputs": [
    {
     "data": {
      "text/html": [
       "<div>\n",
       "<style>\n",
       "    .dataframe thead tr:only-child th {\n",
       "        text-align: right;\n",
       "    }\n",
       "\n",
       "    .dataframe thead th {\n",
       "        text-align: left;\n",
       "    }\n",
       "\n",
       "    .dataframe tbody tr th {\n",
       "        vertical-align: top;\n",
       "    }\n",
       "</style>\n",
       "<table border=\"1\" class=\"dataframe\">\n",
       "  <thead>\n",
       "    <tr style=\"text-align: right;\">\n",
       "      <th></th>\n",
       "      <th>0</th>\n",
       "    </tr>\n",
       "  </thead>\n",
       "  <tbody>\n",
       "    <tr>\n",
       "      <th>img_06663</th>\n",
       "      <td>https://pbs.twimg.com/media/CtNHrAXW8AA2Pa0.jpg</td>\n",
       "    </tr>\n",
       "    <tr>\n",
       "      <th>img_06664</th>\n",
       "      <td>https://pbs.twimg.com/media/CtLmBvvWgAAsCMF.jpg</td>\n",
       "    </tr>\n",
       "    <tr>\n",
       "      <th>img_06665</th>\n",
       "      <td>NaN</td>\n",
       "    </tr>\n",
       "    <tr>\n",
       "      <th>img_06666</th>\n",
       "      <td>NaN</td>\n",
       "    </tr>\n",
       "    <tr>\n",
       "      <th>img_06667</th>\n",
       "      <td>NaN</td>\n",
       "    </tr>\n",
       "  </tbody>\n",
       "</table>\n",
       "</div>"
      ],
      "text/plain": [
       "                                                         0\n",
       "img_06663  https://pbs.twimg.com/media/CtNHrAXW8AA2Pa0.jpg\n",
       "img_06664  https://pbs.twimg.com/media/CtLmBvvWgAAsCMF.jpg\n",
       "img_06665                                              NaN\n",
       "img_06666                                              NaN\n",
       "img_06667                                              NaN"
      ]
     },
     "execution_count": 41,
     "metadata": {},
     "output_type": "execute_result"
    }
   ],
   "source": [
    "md_12.head()"
   ]
  },
  {
   "cell_type": "code",
   "execution_count": 42,
   "metadata": {
    "collapsed": true
   },
   "outputs": [],
   "source": [
    "mapping_df = md_02.append(md_12)"
   ]
  },
  {
   "cell_type": "code",
   "execution_count": 46,
   "metadata": {
    "collapsed": false
   },
   "outputs": [],
   "source": [
    "mapping_df = mapping_df.dropna()"
   ]
  },
  {
   "cell_type": "code",
   "execution_count": 47,
   "metadata": {
    "collapsed": true
   },
   "outputs": [],
   "source": [
    "mapping_df.columns = [\"media_url\"]"
   ]
  },
  {
   "cell_type": "code",
   "execution_count": 51,
   "metadata": {
    "collapsed": false
   },
   "outputs": [],
   "source": [
    "mapping_df = mapping_df.reset_index()"
   ]
  },
  {
   "cell_type": "code",
   "execution_count": 52,
   "metadata": {
    "collapsed": false
   },
   "outputs": [],
   "source": [
    "mapping_df.columns = [[\"img\", \"media_url\"]]"
   ]
  },
  {
   "cell_type": "code",
   "execution_count": null,
   "metadata": {
    "collapsed": false
   },
   "outputs": [
    {
     "name": "stdout",
     "output_type": "stream",
     "text": [
      "img_00000\n",
      "img_00001\n",
      "img_00005\n",
      "img_00008\n",
      "img_00010\n",
      "img_00011\n",
      "img_00012\n",
      "img_00014\n",
      "img_00016\n",
      "img_00017\n",
      "img_00018\n",
      "img_00021\n",
      "img_00023\n",
      "img_00025\n",
      "img_00027\n",
      "img_00029\n",
      "img_00030\n",
      "img_00031\n",
      "img_00032\n",
      "img_00033\n",
      "img_00034\n",
      "img_00036\n",
      "img_00038\n",
      "img_00039\n",
      "img_00040\n",
      "img_00042\n",
      "img_00043\n",
      "img_00044\n",
      "img_00045\n",
      "img_00046\n",
      "img_00047\n",
      "img_00049\n",
      "img_00051\n",
      "img_00053\n",
      "img_00054\n",
      "img_00055\n",
      "img_00058\n",
      "img_00060\n",
      "img_00061\n",
      "img_00062\n"
     ]
    }
   ],
   "source": [
    "bucket_name = 'mediaurls'\n",
    "s3 = boto3.resource('s3')\n",
    "bucket = s3.Bucket(bucket_name)\n",
    "images = [img.key for img in bucket.objects.all()]\n",
    "client = boto3.client('rekognition')\n",
    "\n",
    "results_wide = []\n",
    "results_long = []\n",
    "\n",
    "for img in images:\n",
    "    img_dict_wide = {'img': img}\n",
    "    print(img)\n",
    "    try:\n",
    "        labels = client.detect_labels(Image={'S3Object':{'Bucket':bucket_name,'Name':img}},MinConfidence=75)\n",
    "        if 'Labels' in labels:\n",
    "            for l, label in enumerate(labels['Labels']):\n",
    "                results_long.append({'img': img, 'type': 'Label', 'label': label['Name'], \n",
    "                                     'confidence': label['Confidence']})\n",
    "                col = 'label_' + str(l)\n",
    "                img_dict_wide[col] = label['Name']\n",
    "                img_dict_wide[col + '_confidence'] = label['Confidence'] \n",
    "    except:\n",
    "        continue\n",
    "    try:        \n",
    "        celebrities = client.recognize_celebrities(Image={'S3Object':{'Bucket':bucket_name,'Name':img}})\n",
    "        if 'CelebrityFaces' in celebrities:\n",
    "            for f, face in enumerate(celebrities['CelebrityFaces']):\n",
    "                results_long.append({'img': img, 'type': 'Celebrity', 'label': face['Name'], \n",
    "                                     'confidence': face['Face']['Confidence']})\n",
    "                col = 'celeb_' + str(f)\n",
    "                img_dict_wide[col] = face['Name']\n",
    "                img_dict_wide[col + '_confidence'] = face['Face']['Confidence']\n",
    "    except:\n",
    "        continue\n",
    "    try:\n",
    "        text_in_image = client.detect_text(Image={'S3Object':{'Bucket':bucket_name,'Name':img}})\n",
    "        if \"TextDetections\" in text_in_image:\n",
    "            for w, word in enumerate(text_in_image[\"TextDetections\"]):\n",
    "                results_long.append({'img': img, 'type': \"Text\", 'label': word[\"DetectedText\"],\n",
    "                                    'confidence': word[\"Confidence\"]})\n",
    "                col = 'word_' + str(w)\n",
    "                img_dict_wide[col] = word[\"DetectedText\"]\n",
    "                img_dict_wide[col+ '_confidence'] = word[\"Confidence\"]\n",
    "    except:\n",
    "        continue\n",
    "            \n",
    "    if 'Labels' not in labels and 'CelebrityFaces' not in celebrities and \"TextDetections\" not in text_in_image:\n",
    "        results_long.append({'img': img, 'type': None, 'label': None, 'confidence': None})\n",
    "        \n",
    "    results_wide.append(img_dict_wide)\n",
    "####\n",
    "####\n",
    "img_df_long = pd.DataFrame(results_long, columns=['img', 'type', 'label', 'confidence'])\n",
    "img_df_wide = pd.DataFrame(results_wide)\n",
    "cols = sorted(img_df_wide.columns)\n",
    "cols.remove('img')\n",
    "img_df_wide = img_df_wide[['img'] + cols]"
   ]
  },
  {
   "cell_type": "code",
   "execution_count": 188,
   "metadata": {
    "collapsed": true
   },
   "outputs": [],
   "source": [
    "#For our topic modelers only focused on images data!\n",
    "img_df_long.to_csv(\"media_url_link_long.csv\")"
   ]
  },
  {
   "cell_type": "code",
   "execution_count": 189,
   "metadata": {
    "collapsed": true
   },
   "outputs": [],
   "source": [
    "#For mapping to the dataframe provided to us by TM\n",
    "img_df_wide.to_csv(\"media_url_link_wide.csv\")"
   ]
  },
  {
   "cell_type": "code",
   "execution_count": 175,
   "metadata": {
    "collapsed": true
   },
   "outputs": [],
   "source": [
    "#and remember, we have a mapping dictionary that stores our S3 image title and corresponding image link.\n",
    "#'mapping_dict.csv'"
   ]
  },
  {
   "cell_type": "markdown",
   "metadata": {},
   "source": [
    "### Developer notes: Below is code from the big for-loop that creates both wide and long dataframes with image information gathered from AWS Rekognition, in case you were curious."
   ]
  },
  {
   "cell_type": "code",
   "execution_count": 187,
   "metadata": {
    "collapsed": false
   },
   "outputs": [
    {
     "data": {
      "text/plain": [
       "{'Clothing': '83.03480529785156',\n",
       " 'Head': '78.02462005615234',\n",
       " 'Human': '98.55152130126953',\n",
       " 'People': '98.55147552490234',\n",
       " 'Person': '98.55152130126953',\n",
       " 'Vest': '83.03480529785156'}"
      ]
     },
     "execution_count": 187,
     "metadata": {},
     "output_type": "execute_result"
    }
   ],
   "source": [
    "fileName= 'img_00066'\n",
    "bucket='mediaurls'\n",
    "\n",
    "client=boto3.client('rekognition')\n",
    "\n",
    "response = client.detect_labels(Image={'S3Object':{'Bucket':bucket,'Name':fileName}},MinConfidence=75)\n",
    "\n",
    "label_dict ={}\n",
    "for label in response['Labels']:\n",
    "    label_dict[label['Name']] = str(label['Confidence'])\n",
    "label_dict"
   ]
  },
  {
   "cell_type": "code",
   "execution_count": 179,
   "metadata": {
    "collapsed": false
   },
   "outputs": [
    {
     "name": "stdout",
     "output_type": "stream",
     "text": [
      "Detected labels for img_00002\n"
     ]
    }
   ],
   "source": [
    "fileName= 'img_00002'\n",
    "bucket='mediaurls'\n",
    "\n",
    "client=boto3.client('rekognition')\n",
    "\n",
    "response = client.recognize_celebrities(Image={'S3Object':{'Bucket':bucket,'Name':fileName}})\n",
    "\n",
    "print('Detected labels for ' + fileName)\n",
    "for face in response['CelebrityFaces']:\n",
    "    print (face['Name'] + ' : ' + str(face['Face']['Confidence']))"
   ]
  },
  {
   "cell_type": "code",
   "execution_count": 180,
   "metadata": {
    "collapsed": false
   },
   "outputs": [
    {
     "data": {
      "text/plain": [
       "{'CelebrityFaces': [],\n",
       " 'OrientationCorrection': 'ROTATE_180',\n",
       " 'ResponseMetadata': {'HTTPHeaders': {'connection': 'keep-alive',\n",
       "   'content-length': '81',\n",
       "   'content-type': 'application/x-amz-json-1.1',\n",
       "   'date': 'Fri, 01 Dec 2017 23:35:57 GMT',\n",
       "   'x-amzn-requestid': '614ab337-d6f0-11e7-86d6-b3531ff8e06a'},\n",
       "  'HTTPStatusCode': 200,\n",
       "  'RequestId': '614ab337-d6f0-11e7-86d6-b3531ff8e06a',\n",
       "  'RetryAttempts': 0},\n",
       " 'UnrecognizedFaces': []}"
      ]
     },
     "execution_count": 180,
     "metadata": {},
     "output_type": "execute_result"
    }
   ],
   "source": [
    "response"
   ]
  },
  {
   "cell_type": "code",
   "execution_count": 181,
   "metadata": {
    "collapsed": false
   },
   "outputs": [
    {
     "data": {
      "text/plain": [
       "dict_keys(['CelebrityFaces', 'UnrecognizedFaces', 'ResponseMetadata', 'OrientationCorrection'])"
      ]
     },
     "execution_count": 181,
     "metadata": {},
     "output_type": "execute_result"
    }
   ],
   "source": [
    "response.keys()"
   ]
  },
  {
   "cell_type": "code",
   "execution_count": 184,
   "metadata": {
    "collapsed": false
   },
   "outputs": [
    {
     "ename": "IndexError",
     "evalue": "list index out of range",
     "output_type": "error",
     "traceback": [
      "\u001b[0;31m---------------------------------------------------------------------------\u001b[0m",
      "\u001b[0;31mIndexError\u001b[0m                                Traceback (most recent call last)",
      "\u001b[0;32m<ipython-input-184-a1b9c76caa86>\u001b[0m in \u001b[0;36m<module>\u001b[0;34m()\u001b[0m\n\u001b[0;32m----> 1\u001b[0;31m \u001b[0mresponse\u001b[0m\u001b[0;34m[\u001b[0m\u001b[0;34m'CelebrityFaces'\u001b[0m\u001b[0;34m]\u001b[0m\u001b[0;34m[\u001b[0m\u001b[0;36m0\u001b[0m\u001b[0;34m]\u001b[0m\u001b[0;34m[\u001b[0m\u001b[0;34m'Name'\u001b[0m\u001b[0;34m]\u001b[0m\u001b[0;34m\u001b[0m\u001b[0m\n\u001b[0m",
      "\u001b[0;31mIndexError\u001b[0m: list index out of range"
     ]
    }
   ],
   "source": [
    "response['CelebrityFaces'][0]['Name']"
   ]
  },
  {
   "cell_type": "code",
   "execution_count": 183,
   "metadata": {
    "collapsed": false
   },
   "outputs": [],
   "source": [
    "fileName= 'img_00006'\n",
    "bucket='mediaurls'\n",
    "\n",
    "client=boto3.client('rekognition')\n",
    "\n",
    "text_in_image = client.detect_text(Image={'S3Object':{'Bucket':bucket,'Name':fileName}})"
   ]
  },
  {
   "cell_type": "code",
   "execution_count": 117,
   "metadata": {
    "collapsed": false
   },
   "outputs": [
    {
     "data": {
      "text/plain": [
       "[{'Confidence': 87.87747955322266,\n",
       "  'DetectedText': 'Protects',\n",
       "  'Geometry': {'BoundingBox': {'Height': 0.02892024628818035,\n",
       "    'Left': 0.8098856210708618,\n",
       "    'Top': 0.3966602385044098,\n",
       "    'Width': 0.05391734838485718},\n",
       "   'Polygon': [{'X': 0.8098856210708618, 'Y': 0.3966602385044098},\n",
       "    {'X': 0.863802969455719, 'Y': 0.3976689577102661},\n",
       "    {'X': 0.8636319041252136, 'Y': 0.4265891909599304},\n",
       "    {'X': 0.8097145557403564, 'Y': 0.4255804717540741}]},\n",
       "  'Id': 0,\n",
       "  'Type': 'LINE'},\n",
       " {'Confidence': 81.16915130615234,\n",
       "  'DetectedText': 'Minorcuts',\n",
       "  'Geometry': {'BoundingBox': {'Height': 0.02523200400173664,\n",
       "    'Left': 0.8168795108795166,\n",
       "    'Top': 0.4240514636039734,\n",
       "    'Width': 0.06063205003738403},\n",
       "   'Polygon': [{'X': 0.8168795108795166, 'Y': 0.4240514636039734},\n",
       "    {'X': 0.8775115609169006, 'Y': 0.4253864288330078},\n",
       "    {'X': 0.8773359060287476, 'Y': 0.4506184458732605},\n",
       "    {'X': 0.8167038559913635, 'Y': 0.4492834806442261}]},\n",
       "  'Id': 1,\n",
       "  'Type': 'LINE'},\n",
       " {'Confidence': 89.12690734863281,\n",
       "  'DetectedText': 'Vaseline. & Burns',\n",
       "  'Geometry': {'BoundingBox': {'Height': 0.05982952192425728,\n",
       "    'Left': 0.6200173497200012,\n",
       "    'Top': 0.4555152654647827,\n",
       "    'Width': 0.24043691158294678},\n",
       "   'Polygon': [{'X': 0.6200173497200012, 'Y': 0.4555152654647827},\n",
       "    {'X': 0.860454261302948, 'Y': 0.43934184312820435},\n",
       "    {'X': 0.8617268800735474, 'Y': 0.4991713762283325},\n",
       "    {'X': 0.6212899684906006, 'Y': 0.5153447985649109}]},\n",
       "  'Id': 2,\n",
       "  'Type': 'LINE'},\n",
       " {'Confidence': 81.12696075439453,\n",
       "  'DetectedText': '100% petroleumjelly',\n",
       "  'Geometry': {'BoundingBox': {'Height': 0.035030607134103775,\n",
       "    'Left': 0.621286153793335,\n",
       "    'Top': 0.5766656398773193,\n",
       "    'Width': 0.18055863678455353},\n",
       "   'Polygon': [{'X': 0.621286153793335, 'Y': 0.5766656398773193},\n",
       "    {'X': 0.8018448352813721, 'Y': 0.5797303318977356},\n",
       "    {'X': 0.8016567826271057, 'Y': 0.6147609353065491},\n",
       "    {'X': 0.6210981607437134, 'Y': 0.6116963028907776}]},\n",
       "  'Id': 3,\n",
       "  'Type': 'LINE'},\n",
       " {'Confidence': 83.90216064453125,\n",
       "  'DetectedText': 'originals',\n",
       "  'Geometry': {'BoundingBox': {'Height': 0.039891794323921204,\n",
       "    'Left': 0.6161055564880371,\n",
       "    'Top': 0.61806720495224,\n",
       "    'Width': 0.07922971248626709},\n",
       "   'Polygon': [{'X': 0.6161055564880371, 'Y': 0.61806720495224},\n",
       "    {'X': 0.6953352689743042, 'Y': 0.6189143657684326},\n",
       "    {'X': 0.6952003836631775, 'Y': 0.6588061451911926},\n",
       "    {'X': 0.6159706711769104, 'Y': 0.657958984375}]},\n",
       "  'Id': 4,\n",
       "  'Type': 'LINE'},\n",
       " {'Confidence': 81.64225769042969,\n",
       "  'DetectedText': 'Wt.13 0z (368g)',\n",
       "  'Geometry': {'BoundingBox': {'Height': 0.035558778792619705,\n",
       "    'Left': 0.7185497283935547,\n",
       "    'Top': 0.6601418256759644,\n",
       "    'Width': 0.07706379890441895},\n",
       "   'Polygon': [{'X': 0.7185497283935547, 'Y': 0.6601418256759644},\n",
       "    {'X': 0.7956135272979736, 'Y': 0.6606138348579407},\n",
       "    {'X': 0.7955446839332581, 'Y': 0.6961725950241089},\n",
       "    {'X': 0.7184808850288391, 'Y': 0.6957005858421326}]},\n",
       "  'Id': 5,\n",
       "  'Type': 'LINE'},\n",
       " {'Confidence': 87.87747955322266,\n",
       "  'DetectedText': 'Protects',\n",
       "  'Geometry': {'BoundingBox': {'Height': 0.03290235996246338,\n",
       "    'Left': 0.809117317199707,\n",
       "    'Top': 0.3957922160625458,\n",
       "    'Width': 0.05556321144104004},\n",
       "   'Polygon': [{'X': 0.8098856210708618, 'Y': 0.3966602385044098},\n",
       "    {'X': 0.863802969455719, 'Y': 0.3976689577102661},\n",
       "    {'X': 0.8636319041252136, 'Y': 0.4265891909599304},\n",
       "    {'X': 0.8097145557403564, 'Y': 0.4255804717540741}]},\n",
       "  'Id': 6,\n",
       "  'ParentId': 0,\n",
       "  'Type': 'WORD'},\n",
       " {'Confidence': 81.16915130615234,\n",
       "  'DetectedText': 'Minorcuts',\n",
       "  'Geometry': {'BoundingBox': {'Height': 0.028372764587402344,\n",
       "    'Left': 0.8174862861633301,\n",
       "    'Top': 0.42414212226867676,\n",
       "    'Width': 0.06001150608062744},\n",
       "   'Polygon': [{'X': 0.8168795108795166, 'Y': 0.4240514636039734},\n",
       "    {'X': 0.8775115609169006, 'Y': 0.4253864288330078},\n",
       "    {'X': 0.8773359060287476, 'Y': 0.4506184458732605},\n",
       "    {'X': 0.8167038559913635, 'Y': 0.4492834806442261}]},\n",
       "  'Id': 7,\n",
       "  'ParentId': 1,\n",
       "  'Type': 'WORD'},\n",
       " {'Confidence': 94.5615463256836,\n",
       "  'DetectedText': 'Vaseline.',\n",
       "  'Geometry': {'BoundingBox': {'Height': 0.05167102813720703,\n",
       "    'Left': 0.6212046146392822,\n",
       "    'Top': 0.45538097620010376,\n",
       "    'Width': 0.12480378150939941},\n",
       "   'Polygon': [{'X': 0.621100127696991, 'Y': 0.4554424285888672},\n",
       "    {'X': 0.7460386157035828, 'Y': 0.4553386867046356},\n",
       "    {'X': 0.7460521459579468, 'Y': 0.5069524049758911},\n",
       "    {'X': 0.621113657951355, 'Y': 0.5070561766624451}]},\n",
       "  'Id': 8,\n",
       "  'ParentId': 2,\n",
       "  'Type': 'WORD'},\n",
       " {'Confidence': 83.69226837158203,\n",
       "  'DetectedText': '& Burns',\n",
       "  'Geometry': {'BoundingBox': {'Height': 0.028394877910614014,\n",
       "    'Left': 0.8165298700332642,\n",
       "    'Top': 0.4540209174156189,\n",
       "    'Width': 0.04551351070404053},\n",
       "   'Polygon': [{'X': 0.8169975876808167, 'Y': 0.4545084834098816},\n",
       "    {'X': 0.8607665300369263, 'Y': 0.454022079706192},\n",
       "    {'X': 0.8608580827713013, 'Y': 0.4800691306591034},\n",
       "    {'X': 0.8170891404151917, 'Y': 0.48055553436279297}]},\n",
       "  'Id': 9,\n",
       "  'ParentId': 2,\n",
       "  'Type': 'WORD'},\n",
       " {'Confidence': 75.577880859375,\n",
       "  'DetectedText': '100%',\n",
       "  'Geometry': {'BoundingBox': {'Height': 0.027785658836364746,\n",
       "    'Left': 0.6207696199417114,\n",
       "    'Top': 0.580116868019104,\n",
       "    'Width': 0.036931633949279785},\n",
       "   'Polygon': [{'X': 0.6212659478187561, 'Y': 0.5804343819618225},\n",
       "    {'X': 0.6571546792984009, 'Y': 0.5807293057441711},\n",
       "    {'X': 0.6570872664451599, 'Y': 0.6066670417785645},\n",
       "    {'X': 0.6211985349655151, 'Y': 0.6063721179962158}]},\n",
       "  'Id': 10,\n",
       "  'ParentId': 3,\n",
       "  'Type': 'WORD'},\n",
       " {'Confidence': 86.67605590820312,\n",
       "  'DetectedText': 'petroleumjelly',\n",
       "  'Geometry': {'BoundingBox': {'Height': 0.032602254301309586,\n",
       "    'Left': 0.6933333277702332,\n",
       "    'Top': 0.5803201198577881,\n",
       "    'Width': 0.07233333587646484},\n",
       "   'Polygon': [{'X': 0.6933333277702332, 'Y': 0.5797273516654968},\n",
       "    {'X': 0.8016666769981384, 'Y': 0.5797273516654968},\n",
       "    {'X': 0.8016666769981384, 'Y': 0.6129223704338074},\n",
       "    {'X': 0.6933333277702332, 'Y': 0.6129223704338074}]},\n",
       "  'Id': 11,\n",
       "  'ParentId': 3,\n",
       "  'Type': 'WORD'},\n",
       " {'Confidence': 83.90216064453125,\n",
       "  'DetectedText': 'originals',\n",
       "  'Geometry': {'BoundingBox': {'Height': 0.04059624671936035,\n",
       "    'Left': 0.6164647340774536,\n",
       "    'Top': 0.6181583404541016,\n",
       "    'Width': 0.07868921756744385},\n",
       "   'Polygon': [{'X': 0.6161055564880371, 'Y': 0.61806720495224},\n",
       "    {'X': 0.6953352689743042, 'Y': 0.6189143657684326},\n",
       "    {'X': 0.6952003836631775, 'Y': 0.6588061451911926},\n",
       "    {'X': 0.6159706711769104, 'Y': 0.657958984375}]},\n",
       "  'Id': 12,\n",
       "  'ParentId': 4,\n",
       "  'Type': 'WORD'},\n",
       " {'Confidence': 81.64225769042969,\n",
       "  'DetectedText': 'Wt.13 0z (368g)',\n",
       "  'Geometry': {'BoundingBox': {'Height': 0.03564167022705078,\n",
       "    'Left': 0.7191218733787537,\n",
       "    'Top': 0.6606669425964355,\n",
       "    'Width': 0.07619261741638184},\n",
       "   'Polygon': [{'X': 0.7185497283935547, 'Y': 0.6601418256759644},\n",
       "    {'X': 0.7956135272979736, 'Y': 0.6606138348579407},\n",
       "    {'X': 0.7955446839332581, 'Y': 0.6961725950241089},\n",
       "    {'X': 0.7184808850288391, 'Y': 0.6957005858421326}]},\n",
       "  'Id': 13,\n",
       "  'ParentId': 5,\n",
       "  'Type': 'WORD'}]"
      ]
     },
     "execution_count": 117,
     "metadata": {},
     "output_type": "execute_result"
    }
   ],
   "source": [
    "text_in_image[\"TextDetections\"]"
   ]
  },
  {
   "cell_type": "code",
   "execution_count": 118,
   "metadata": {
    "collapsed": false
   },
   "outputs": [
    {
     "data": {
      "text/plain": [
       "87.87747955322266"
      ]
     },
     "execution_count": 118,
     "metadata": {},
     "output_type": "execute_result"
    }
   ],
   "source": [
    "response[\"TextDetections\"][0][\"Confidence\"]"
   ]
  },
  {
   "cell_type": "code",
   "execution_count": 119,
   "metadata": {
    "collapsed": false
   },
   "outputs": [
    {
     "data": {
      "text/plain": [
       "'Protects'"
      ]
     },
     "execution_count": 119,
     "metadata": {},
     "output_type": "execute_result"
    }
   ],
   "source": [
    "response[\"TextDetections\"][0][\"DetectedText\"]"
   ]
  },
  {
   "cell_type": "markdown",
   "metadata": {},
   "source": [
    "### Resources"
   ]
  },
  {
   "cell_type": "markdown",
   "metadata": {},
   "source": [
    "https://stackoverflow.com/questions/14346065/upload-image-available-at-public-url-to-s3-using-boto<br>\n",
    "http://docs.aws.amazon.com/rekognition<br>\n",
    "http://docs.aws.amazon.com/rekognition/latest/dg/get-started-exercise.html"
   ]
  },
  {
   "cell_type": "code",
   "execution_count": null,
   "metadata": {
    "collapsed": true
   },
   "outputs": [],
   "source": []
  }
 ],
 "metadata": {
  "anaconda-cloud": {},
  "kernelspec": {
   "display_name": "Python [conda root]",
   "language": "python",
   "name": "conda-root-py"
  },
  "language_info": {
   "codemirror_mode": {
    "name": "ipython",
    "version": 3
   },
   "file_extension": ".py",
   "mimetype": "text/x-python",
   "name": "python",
   "nbconvert_exporter": "python",
   "pygments_lexer": "ipython3",
   "version": "3.5.2"
  }
 },
 "nbformat": 4,
 "nbformat_minor": 2
}
